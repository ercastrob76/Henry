{
 "cells": [
  {
   "cell_type": "markdown",
   "metadata": {},
   "source": [
    "Con este codigo se obtienen las tablas que conforman la bases de datos travel en que esta en formato sqlite. Las tablas se obtienen en formato .csv"
   ]
  },
  {
   "cell_type": "code",
   "execution_count": 1,
   "metadata": {},
   "outputs": [],
   "source": [
    "import sqlite3\n",
    "import pandas as pd"
   ]
  },
  {
   "cell_type": "code",
   "execution_count": 13,
   "metadata": {},
   "outputs": [],
   "source": [
    "archivo_sqlite = 'C:\\\\Users\\\\Invite\\\\Downloads\\\\travel_sqlite\\\\travel.sqlite'"
   ]
  },
  {
   "cell_type": "code",
   "execution_count": 14,
   "metadata": {},
   "outputs": [],
   "source": [
    "conn = sqlite3.connect(archivo_sqlite)\n",
    "cursor = conn.cursor()"
   ]
  },
  {
   "cell_type": "code",
   "execution_count": 15,
   "metadata": {},
   "outputs": [],
   "source": [
    "cursor.execute(\"SELECT name FROM sqlite_master WHERE type='table';\")\n",
    "tablas = cursor.fetchall()"
   ]
  },
  {
   "cell_type": "code",
   "execution_count": 16,
   "metadata": {},
   "outputs": [
    {
     "name": "stdout",
     "output_type": "stream",
     "text": [
      "Tabla aircrafts_data exportada a aircrafts_data.csv\n",
      "Tabla airports_data exportada a airports_data.csv\n",
      "Tabla boarding_passes exportada a boarding_passes.csv\n",
      "Tabla bookings exportada a bookings.csv\n",
      "Tabla flights exportada a flights.csv\n",
      "Tabla seats exportada a seats.csv\n",
      "Tabla ticket_flights exportada a ticket_flights.csv\n",
      "Tabla tickets exportada a tickets.csv\n"
     ]
    }
   ],
   "source": [
    "for tabla in tablas:\n",
    "    nombre_tabla = tabla[0]\n",
    "    df = pd.read_sql_query(f\"SELECT * FROM {nombre_tabla}\", conn)\n",
    "    df.to_csv(f\"{nombre_tabla}.csv\", index=False)\n",
    "    print(f\"Tabla {nombre_tabla} exportada a {nombre_tabla}.csv\")\n",
    "\n",
    "conn.close()"
   ]
  }
 ],
 "metadata": {
  "kernelspec": {
   "display_name": "Python 3",
   "language": "python",
   "name": "python3"
  },
  "language_info": {
   "codemirror_mode": {
    "name": "ipython",
    "version": 3
   },
   "file_extension": ".py",
   "mimetype": "text/x-python",
   "name": "python",
   "nbconvert_exporter": "python",
   "pygments_lexer": "ipython3",
   "version": "3.13.0"
  }
 },
 "nbformat": 4,
 "nbformat_minor": 2
}
