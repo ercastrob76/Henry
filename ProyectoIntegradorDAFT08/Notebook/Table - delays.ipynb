{
 "cells": [
  {
   "cell_type": "markdown",
   "metadata": {},
   "source": [
    "Explicación del Código:\n",
    "\n",
    "Carga de los datos: Los datos iniciales se cargan en un DataFrame de pandas, con las columnas que mencionaste, incluyendo arrival_delay_minutes.\n",
    "Función assign_delay_cause:\n",
    "\n",
    "Si arrival_delay_minutes es menor o igual a 5, la causa del retraso es \"Ninguna\".\n",
    "\n",
    "Si arrival_delay_minutes es mayor que 5 pero menor o igual a 60, seleccionamos una causa aleatoria de un conjunto de opciones, asegurándonos de que las opciones \"Clima origen\" y \"Clima destino\" se asignen con una probabilidad 10 veces menor.\n",
    "\n",
    "Si arrival_delay_minutes es mayor a 60, la causa es exclusivamente \"Mantenimiento\".\n",
    "\n",
    "Aplicación de la función: La función assign_delay_cause se aplica a cada fila del DataFrame usando apply.\n",
    "\n",
    "Mostrar el resultado: El DataFrame resultante se imprime, mostrando solo las columnas relevantes (flight_id, flight_no, arrival_delay_minutes, delay_cause)."
   ]
  },
  {
   "cell_type": "code",
   "execution_count": 6,
   "metadata": {},
   "outputs": [
    {
     "name": "stdout",
     "output_type": "stream",
     "text": [
      "       flight_id flight_no  arrival_delay_minutes  delay_cause  \\\n",
      "0           1185    PG0134                   35.0   weather_ct   \n",
      "1           3979    PG0052                   23.0   weather_ct   \n",
      "2           4739    PG0561                   11.0  security_ct   \n",
      "3           5502    PG0529                   32.0   carrier_ct   \n",
      "4           6938    PG0461                   24.0       nas_ct   \n",
      "...          ...       ...                    ...          ...   \n",
      "33116      33117    PG0063                    0.0    No delays   \n",
      "33117      33118    PG0063                    5.0    No delays   \n",
      "33118      33119    PG0063                   -1.0    No delays   \n",
      "33119      33120    PG0063                    2.0    No delays   \n",
      "33120      33121    PG0063                   -1.0    No delays   \n",
      "\n",
      "      delay_classification  on_time  \n",
      "0           Moderate delay    False  \n",
      "1              Short delay    False  \n",
      "2              Short delay    False  \n",
      "3           Moderate delay    False  \n",
      "4              Short delay    False  \n",
      "...                    ...      ...  \n",
      "33116              On-time     True  \n",
      "33117              On-time     True  \n",
      "33118              On-time     True  \n",
      "33119              On-time     True  \n",
      "33120              On-time     True  \n",
      "\n",
      "[33121 rows x 6 columns]\n",
      "delay_cause\n",
      "No delays           16510\n",
      "carrier_ct           4388\n",
      "security_ct          3560\n",
      "late_aircraft_ct     3540\n",
      "nas_ct               3532\n",
      "weather_ct           1591\n",
      "Name: count, dtype: int64\n"
     ]
    }
   ],
   "source": [
    "import pandas as pd\n",
    "import random\n",
    "\n",
    "#Se guarda ruta del archivo en la cadena archivo_latam\n",
    "\n",
    "flights = r'C:\\Users\\flore\\OneDrive\\Documents\\Proyecto Final Clonado\\ProyectoIntegradorDAFT08\\Data\\Data Clean\\flightdf_data_clean.csv'\n",
    "\n",
    "\n",
    "# Leer el archivo CSV\n",
    "\n",
    "df = pd.read_csv(flights)\n",
    "\n",
    "\n",
    "# Función para asignar la causa del retraso\n",
    "def assign_delay_cause(row):\n",
    "    if row['arrival_delay_minutes'] <= 5:\n",
    "        return 'No delays'\n",
    "    elif row['arrival_delay_minutes'] > 5 and row['arrival_delay_minutes'] <= 60:\n",
    "        # Opciones posibles para retrasos mayores a 5 pero menores o iguales a 60\n",
    "        options = ['carrier_ct', 'late_aircraft_ct', 'nas_ct', 'security_ct', \n",
    "                   'weather_ct']\n",
    "        # Asegurarse de que las opciones \"Clima origen\" y \"Clima destino\" ocurran 10 veces menos\n",
    "        if random.random() < 0.1:\n",
    "            return random.choice([opt for opt in options if 'weather_ct' in opt])  # Selección de opciones Clima\n",
    "        else:\n",
    "            return random.choice([opt for opt in options if 'weather_ct' not in opt])  # Otras opciones\n",
    "    else:\n",
    "        return 'carrier_ct'  # Si el retraso es mayor a 60 minutos, solo puede ser Mantenimiento\n",
    "\n",
    "# Aplicamos la función para asignar la causa del retraso a cada fila\n",
    "df['delay_cause'] = df.apply(assign_delay_cause, axis=1)\n",
    "\n",
    "# Clasificar los retrasos\n",
    "def classify_delay(minutes):\n",
    "    if minutes <= 5:\n",
    "        return 'On-time'\n",
    "    elif minutes <= 30:\n",
    "        return 'Short delay'\n",
    "    elif minutes <= 60:\n",
    "        return 'Moderate delay'\n",
    "    else:\n",
    "        return 'Long delay'\n",
    "\n",
    "df['delay_classification'] = df['arrival_delay_minutes'].apply(classify_delay)\n",
    "\n",
    "# Añadir columna binaria para vuelos puntuales\n",
    "df['on_time'] = df['arrival_delay_minutes'] <= 5\n",
    "\n",
    "# Mostrar las primeras filas con las nuevas columnas\n",
    "print(df[['flight_id', 'flight_no', 'arrival_delay_minutes', 'delay_cause', 'delay_classification', 'on_time']])\n",
    "\n",
    "# Contar frecuencias de las causas de retraso\n",
    "cause_counts = df['delay_cause'].value_counts()\n",
    "print(cause_counts)\n"
   ]
  },
  {
   "cell_type": "code",
   "execution_count": 7,
   "metadata": {},
   "outputs": [
    {
     "data": {
      "text/plain": [
       "Index(['flight_id', 'flight_no', 'scheduled_departure', 'scheduled_arrival',\n",
       "       'departure_airport', 'arrival_airport', 'status', 'aircraft_code',\n",
       "       'actual_departure', 'actual_arrival', 'departure_delay_minutes',\n",
       "       'arrival_delay_minutes', 'duration_mm', 'duration', 'duration_hh_mm',\n",
       "       'delay_cause', 'delay_classification', 'on_time'],\n",
       "      dtype='object')"
      ]
     },
     "execution_count": 7,
     "metadata": {},
     "output_type": "execute_result"
    }
   ],
   "source": [
    "df.columns"
   ]
  },
  {
   "cell_type": "code",
   "execution_count": 8,
   "metadata": {},
   "outputs": [
    {
     "name": "stdout",
     "output_type": "stream",
     "text": [
      "       flight_id flight_no  delay_cause delay_classification  on_time\n",
      "0           1185    PG0134   weather_ct       Moderate delay    False\n",
      "1           3979    PG0052   weather_ct          Short delay    False\n",
      "2           4739    PG0561  security_ct          Short delay    False\n",
      "3           5502    PG0529   carrier_ct       Moderate delay    False\n",
      "4           6938    PG0461       nas_ct          Short delay    False\n",
      "...          ...       ...          ...                  ...      ...\n",
      "33116      33117    PG0063    No delays              On-time     True\n",
      "33117      33118    PG0063    No delays              On-time     True\n",
      "33118      33119    PG0063    No delays              On-time     True\n",
      "33119      33120    PG0063    No delays              On-time     True\n",
      "33120      33121    PG0063    No delays              On-time     True\n",
      "\n",
      "[33121 rows x 5 columns]\n"
     ]
    }
   ],
   "source": [
    "# Select the desired columns\n",
    "selected_columns = ['flight_id','flight_no', 'delay_cause', 'delay_classification', 'on_time']\n",
    "df = df[selected_columns]\n",
    "\n",
    "# Print the DataFrame\n",
    "print(df)"
   ]
  },
  {
   "cell_type": "code",
   "execution_count": 9,
   "metadata": {},
   "outputs": [],
   "source": [
    "df.to_csv(\"Causes of delays.csv\", index=False)\n"
   ]
  }
 ],
 "metadata": {
  "kernelspec": {
   "display_name": "Python 3",
   "language": "python",
   "name": "python3"
  },
  "language_info": {
   "codemirror_mode": {
    "name": "ipython",
    "version": 3
   },
   "file_extension": ".py",
   "mimetype": "text/x-python",
   "name": "python",
   "nbconvert_exporter": "python",
   "pygments_lexer": "ipython3",
   "version": "3.12.6"
  }
 },
 "nbformat": 4,
 "nbformat_minor": 2
}
