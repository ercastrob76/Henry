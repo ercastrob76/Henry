{
 "cells": [
  {
   "cell_type": "code",
   "execution_count": 19,
   "metadata": {},
   "outputs": [],
   "source": [
    "import pandas as pd\n",
    "import numpy as np\n",
    "import matplotlib.pyplot as plt\n",
    "import seaborn as sns\n"
   ]
  },
  {
   "cell_type": "code",
   "execution_count": 20,
   "metadata": {},
   "outputs": [
    {
     "name": "stdout",
     "output_type": "stream",
     "text": [
      "Fila con problema detectada en la línea 3: ['MJZ', ' \"Mirnyt\"', ' \"Astrakhan\"', '(48.0063018799000005,46.2832984924000002)', 'Europe Airport\"\"\"', ' \"Mirnyj\"', '(114.03900146484375,62.534698486328125)', 'Asia/Yakutsk', '114.0390015', '62.53469849']\n"
     ]
    }
   ],
   "source": [
    "\n",
    "import csv\n",
    "\n",
    "# Archivo de entrada y salida\n",
    "input_file = r'C:\\Users\\flore\\OneDrive\\Documents\\Proyecto Final Clonado\\ProyectoIntegradorDAFT08\\Data\\Data Original\\airports_data.csv'\n",
    "output_file = r'C:\\Users\\flore\\OneDrive\\Documents\\Proyecto Final Clonado\\ProyectoIntegradorDAFT08\\Data\\Data Original\\airports_data_cleaned.csv'\n",
    "\n",
    "# Leer y verificar las líneas\n",
    "with open(input_file, 'r', encoding='utf-8') as infile:\n",
    "    reader = csv.reader(infile, delimiter=',', quotechar='\"')\n",
    "    for i, row in enumerate(reader, start=1):\n",
    "        # Comprobar si la fila tiene el número esperado de columnas\n",
    "        if len(row) != 7:  # Cambia este número al total correcto de columnas en tu archivo\n",
    "            print(f\"Fila con problema detectada en la línea {i}: {row}\")\n",
    "\n"
   ]
  },
  {
   "cell_type": "code",
   "execution_count": 21,
   "metadata": {},
   "outputs": [
    {
     "name": "stdout",
     "output_type": "stream",
     "text": [
      "  airport_code                          airport_name                  city  \\\n",
      "0          YKS                     \"Yakutsk Airport\"             \"Yakutsk\"   \n",
      "1          KHV             \"Khabarovsk-Novy Airport\"          \"Khabarovsk\"   \n",
      "2          PKC                    \"Yelizovo Airport\"       \"Petropavlovsk\"   \n",
      "3          UUS           \"Yuzhno-Sakhalinsk Airport\"   \"Yuzhno-Sakhalinsk\"   \n",
      "4          VVO   \"Vladivostok International Airport\"         \"Vladivostok\"   \n",
      "\n",
      "                                 coordinates          timezone     Latitud  \\\n",
      "0      (129.77099609375,62.0932998657226562)      Asia/Yakutsk  129.770996   \n",
      "1      (135.18800354004,48.5279998779300001)  Asia/Vladivostok  135.188004   \n",
      "2  (158.453994750976562,53.1679000854492188)    Asia/Kamchatka  158.453995   \n",
      "3  (142.718002319335938,46.8886985778808594)     Asia/Sakhalin  142.718002   \n",
      "4  (132.147994995117188,43.3989982604980469)  Asia/Vladivostok  132.147995   \n",
      "\n",
      "    Longitud  \n",
      "0  62.093300  \n",
      "1  48.528000  \n",
      "2  53.167900  \n",
      "3  46.888699  \n",
      "4  43.398998  \n"
     ]
    }
   ],
   "source": [
    "cleaned_rows = []\n",
    "with open(input_file, 'r', encoding='utf-8') as infile:\n",
    "    reader = csv.reader(infile, delimiter=',', quotechar='\"')\n",
    "    for row in reader:\n",
    "        if len(row) == 7:  \n",
    "            cleaned_rows.append(row)\n",
    "\n",
    "# Guardar el archivo limpio\n",
    "with open(output_file, 'w', encoding='utf-8', newline='') as outfile:\n",
    "    writer = csv.writer(outfile, delimiter=',', quotechar='\"', quoting=csv.QUOTE_MINIMAL)\n",
    "    writer.writerows(cleaned_rows)\n",
    "\n",
    "# Leer el archivo limpio con pandas\n",
    "airports_df = pd.read_csv(output_file, sep=',', quotechar='\"', na_values=['NA', ''])\n",
    "print(airports_df.head())\n"
   ]
  },
  {
   "cell_type": "code",
   "execution_count": 22,
   "metadata": {},
   "outputs": [
    {
     "name": "stdout",
     "output_type": "stream",
     "text": [
      "  airport_code                          airport_name                  city  \\\n",
      "0          YKS                     \"Yakutsk Airport\"             \"Yakutsk\"   \n",
      "1          KHV             \"Khabarovsk-Novy Airport\"          \"Khabarovsk\"   \n",
      "2          PKC                    \"Yelizovo Airport\"       \"Petropavlovsk\"   \n",
      "3          UUS           \"Yuzhno-Sakhalinsk Airport\"   \"Yuzhno-Sakhalinsk\"   \n",
      "4          VVO   \"Vladivostok International Airport\"         \"Vladivostok\"   \n",
      "\n",
      "                                 coordinates          timezone     Latitud  \\\n",
      "0      (129.77099609375,62.0932998657226562)      Asia/Yakutsk  129.770996   \n",
      "1      (135.18800354004,48.5279998779300001)  Asia/Vladivostok  135.188004   \n",
      "2  (158.453994750976562,53.1679000854492188)    Asia/Kamchatka  158.453995   \n",
      "3  (142.718002319335938,46.8886985778808594)     Asia/Sakhalin  142.718002   \n",
      "4  (132.147994995117188,43.3989982604980469)  Asia/Vladivostok  132.147995   \n",
      "\n",
      "    Longitud  \n",
      "0  62.093300  \n",
      "1  48.528000  \n",
      "2  53.167900  \n",
      "3  46.888699  \n",
      "4  43.398998  \n"
     ]
    }
   ],
   "source": [
    "# Cargar el archivo limpio\n",
    "airports_df = pd.read_csv(output_file, sep=',', quotechar='\"', na_values=['NA', ''])\n",
    "print(airports_df.head())"
   ]
  },
  {
   "cell_type": "code",
   "execution_count": 23,
   "metadata": {},
   "outputs": [
    {
     "data": {
      "text/plain": [
       "(102, 7)"
      ]
     },
     "execution_count": 23,
     "metadata": {},
     "output_type": "execute_result"
    }
   ],
   "source": [
    "np.shape(airports_df)\n"
   ]
  },
  {
   "cell_type": "code",
   "execution_count": 24,
   "metadata": {},
   "outputs": [
    {
     "name": "stdout",
     "output_type": "stream",
     "text": [
      "airport_code    0\n",
      "airport_name    0\n",
      "city            0\n",
      "coordinates     0\n",
      "timezone        0\n",
      "Latitud         0\n",
      "Longitud        0\n",
      "dtype: int64\n"
     ]
    }
   ],
   "source": [
    "# Comprobar valores nulos\n",
    "print(airports_df.isnull().sum())"
   ]
  },
  {
   "cell_type": "code",
   "execution_count": 25,
   "metadata": {},
   "outputs": [
    {
     "name": "stdout",
     "output_type": "stream",
     "text": [
      "airport_code     object\n",
      "airport_name     object\n",
      "city             object\n",
      "coordinates      object\n",
      "timezone         object\n",
      "Latitud         float64\n",
      "Longitud        float64\n",
      "dtype: object\n"
     ]
    }
   ],
   "source": [
    "print(airports_df.dtypes)\n"
   ]
  },
  {
   "cell_type": "code",
   "execution_count": 26,
   "metadata": {},
   "outputs": [
    {
     "name": "stdout",
     "output_type": "stream",
     "text": [
      "  airport_code                          airport_name                  city  \\\n",
      "0          YKS                     \"Yakutsk Airport\"             \"Yakutsk\"   \n",
      "1          KHV             \"Khabarovsk-Novy Airport\"          \"Khabarovsk\"   \n",
      "2          PKC                    \"Yelizovo Airport\"       \"Petropavlovsk\"   \n",
      "3          UUS           \"Yuzhno-Sakhalinsk Airport\"   \"Yuzhno-Sakhalinsk\"   \n",
      "4          VVO   \"Vladivostok International Airport\"         \"Vladivostok\"   \n",
      "\n",
      "                                 coordinates          timezone  \n",
      "0      (129.77099609375,62.0932998657226562)      Asia/Yakutsk  \n",
      "1      (135.18800354004,48.5279998779300001)  Asia/Vladivostok  \n",
      "2  (158.453994750976562,53.1679000854492188)    Asia/Kamchatka  \n",
      "3  (142.718002319335938,46.8886985778808594)     Asia/Sakhalin  \n",
      "4  (132.147994995117188,43.3989982604980469)  Asia/Vladivostok  \n"
     ]
    }
   ],
   "source": [
    "# Eliminamos las columnas 'Latitud' y 'Longitud'\n",
    "airports_df = airports_df.drop(['Latitud', 'Longitud'], axis=1)\n",
    "\n",
    "# Imprimimos el DataFrame modificado para verificar\n",
    "print(airports_df.head())"
   ]
  },
  {
   "cell_type": "code",
   "execution_count": 27,
   "metadata": {},
   "outputs": [
    {
     "name": "stdout",
     "output_type": "stream",
     "text": [
      "  airport_code                         airport_name                  city  \\\n",
      "0          YKS                     \"Yakutsk Airport             \"Yakutsk\"   \n",
      "1          KHV             \"Khabarovsk-Novy Airport          \"Khabarovsk\"   \n",
      "2          PKC                    \"Yelizovo Airport       \"Petropavlovsk\"   \n",
      "3          UUS           \"Yuzhno-Sakhalinsk Airport   \"Yuzhno-Sakhalinsk\"   \n",
      "4          VVO   \"Vladivostok International Airport         \"Vladivostok\"   \n",
      "\n",
      "                                 coordinates          timezone  \n",
      "0      (129.77099609375,62.0932998657226562)      Asia/Yakutsk  \n",
      "1      (135.18800354004,48.5279998779300001)  Asia/Vladivostok  \n",
      "2  (158.453994750976562,53.1679000854492188)    Asia/Kamchatka  \n",
      "3  (142.718002319335938,46.8886985778808594)     Asia/Sakhalin  \n",
      "4  (132.147994995117188,43.3989982604980469)  Asia/Vladivostok  \n"
     ]
    }
   ],
   "source": [
    "\n",
    "# Eliminar las comillas de la columna 'airport_name'\n",
    "\n",
    "airports_df['airport_name'] = airports_df['airport_name'].str.strip('\"')\n",
    "\n",
    "# Mostrar las primeras filas del DataFrame modificado\n",
    "\n",
    "print(airports_df.head())\n",
    "\n"
   ]
  },
  {
   "cell_type": "code",
   "execution_count": 28,
   "metadata": {},
   "outputs": [
    {
     "name": "stdout",
     "output_type": "stream",
     "text": [
      "  airport_code                         airport_name                 city  \\\n",
      "0          YKS                     \"Yakutsk Airport             \"Yakutsk   \n",
      "1          KHV             \"Khabarovsk-Novy Airport          \"Khabarovsk   \n",
      "2          PKC                    \"Yelizovo Airport       \"Petropavlovsk   \n",
      "3          UUS           \"Yuzhno-Sakhalinsk Airport   \"Yuzhno-Sakhalinsk   \n",
      "4          VVO   \"Vladivostok International Airport         \"Vladivostok   \n",
      "\n",
      "                                 coordinates          timezone  \n",
      "0      (129.77099609375,62.0932998657226562)      Asia/Yakutsk  \n",
      "1      (135.18800354004,48.5279998779300001)  Asia/Vladivostok  \n",
      "2  (158.453994750976562,53.1679000854492188)    Asia/Kamchatka  \n",
      "3  (142.718002319335938,46.8886985778808594)     Asia/Sakhalin  \n",
      "4  (132.147994995117188,43.3989982604980469)  Asia/Vladivostok  \n"
     ]
    }
   ],
   "source": [
    "\n",
    "# Eliminar las comillas de la columna 'city'\n",
    "\n",
    "airports_df['city'] = airports_df['city'].str.strip('\"')\n",
    "\n",
    "# Mostrar las primeras filas del DataFrame modificado\n",
    "\n",
    "print(airports_df.head())\n",
    "\n"
   ]
  },
  {
   "cell_type": "code",
   "execution_count": 29,
   "metadata": {},
   "outputs": [
    {
     "name": "stdout",
     "output_type": "stream",
     "text": [
      "  airport_code                         airport_name                 city  \\\n",
      "0          YKS                     \"Yakutsk Airport             \"Yakutsk   \n",
      "1          KHV             \"Khabarovsk-Novy Airport          \"Khabarovsk   \n",
      "2          PKC                    \"Yelizovo Airport       \"Petropavlovsk   \n",
      "3          UUS           \"Yuzhno-Sakhalinsk Airport   \"Yuzhno-Sakhalinsk   \n",
      "4          VVO   \"Vladivostok International Airport         \"Vladivostok   \n",
      "\n",
      "                               coordinates          timezone  \n",
      "0      129.77099609375,62.0932998657226562      Asia/Yakutsk  \n",
      "1      135.18800354004,48.5279998779300001  Asia/Vladivostok  \n",
      "2  158.453994750976562,53.1679000854492188    Asia/Kamchatka  \n",
      "3  142.718002319335938,46.8886985778808594     Asia/Sakhalin  \n",
      "4  132.147994995117188,43.3989982604980469  Asia/Vladivostok  \n"
     ]
    }
   ],
   "source": [
    "# Eliminar los parentesis\n",
    "\n",
    "airports_df['coordinates'] = airports_df['coordinates'].str.strip('(')\n",
    "airports_df['coordinates'] = airports_df['coordinates'].str.strip(')')\n",
    "\n",
    "# Mostrar las primeras filas del DataFrame modificado\n",
    "\n",
    "print(airports_df.head())"
   ]
  },
  {
   "cell_type": "code",
   "execution_count": 30,
   "metadata": {},
   "outputs": [
    {
     "name": "stdout",
     "output_type": "stream",
     "text": [
      "  airport_code                         airport_name                 city  \\\n",
      "0          YKS                     \"Yakutsk Airport             \"Yakutsk   \n",
      "1          KHV             \"Khabarovsk-Novy Airport          \"Khabarovsk   \n",
      "2          PKC                    \"Yelizovo Airport       \"Petropavlovsk   \n",
      "3          UUS           \"Yuzhno-Sakhalinsk Airport   \"Yuzhno-Sakhalinsk   \n",
      "4          VVO   \"Vladivostok International Airport         \"Vladivostok   \n",
      "\n",
      "                               coordinates          timezone  \\\n",
      "0      129.77099609375,62.0932998657226562      Asia/Yakutsk   \n",
      "1      135.18800354004,48.5279998779300001  Asia/Vladivostok   \n",
      "2  158.453994750976562,53.1679000854492188    Asia/Kamchatka   \n",
      "3  142.718002319335938,46.8886985778808594     Asia/Sakhalin   \n",
      "4  132.147994995117188,43.3989982604980469  Asia/Vladivostok   \n",
      "\n",
      "              longitud              latitud  \n",
      "0      129.77099609375  62.0932998657226562  \n",
      "1      135.18800354004  48.5279998779300001  \n",
      "2  158.453994750976562  53.1679000854492188  \n",
      "3  142.718002319335938  46.8886985778808594  \n",
      "4  132.147994995117188  43.3989982604980469  \n"
     ]
    }
   ],
   "source": [
    "# Separar la columna 'coordinates' por la coma y crear dos nuevas columnas\n",
    "coordinates = airports_df['coordinates'].str.split(',', expand=True)\n",
    "airports_df['longitud'] = coordinates[0]\n",
    "airports_df['latitud'] = coordinates[1]\n",
    "\n",
    "# Mostrar las primeras filas del DataFrame modificado\n",
    "print(airports_df.head())"
   ]
  },
  {
   "cell_type": "code",
   "execution_count": 31,
   "metadata": {},
   "outputs": [],
   "source": [
    "\n",
    "# Eliminar la columna 'coordinates' original\n",
    "airports_df = airports_df.drop('coordinates', axis=1)"
   ]
  },
  {
   "cell_type": "code",
   "execution_count": 32,
   "metadata": {},
   "outputs": [
    {
     "name": "stdout",
     "output_type": "stream",
     "text": [
      "  airport_code                         airport_name                 city  \\\n",
      "0          YKS                     \"Yakutsk Airport             \"Yakutsk   \n",
      "1          KHV             \"Khabarovsk-Novy Airport          \"Khabarovsk   \n",
      "2          PKC                    \"Yelizovo Airport       \"Petropavlovsk   \n",
      "3          UUS           \"Yuzhno-Sakhalinsk Airport   \"Yuzhno-Sakhalinsk   \n",
      "4          VVO   \"Vladivostok International Airport         \"Vladivostok   \n",
      "\n",
      "           timezone             longitud              latitud  \n",
      "0      Asia/Yakutsk      129.77099609375  62.0932998657226562  \n",
      "1  Asia/Vladivostok      135.18800354004  48.5279998779300001  \n",
      "2    Asia/Kamchatka  158.453994750976562  53.1679000854492188  \n",
      "3     Asia/Sakhalin  142.718002319335938  46.8886985778808594  \n",
      "4  Asia/Vladivostok  132.147994995117188  43.3989982604980469  \n"
     ]
    }
   ],
   "source": [
    "# Mostrar las primeras filas del DataFrame modificado\n",
    "print(airports_df.head())"
   ]
  },
  {
   "cell_type": "code",
   "execution_count": 33,
   "metadata": {},
   "outputs": [],
   "source": [
    "airports_df['longitud'] = airports_df['longitud'].astype(float)\n",
    "airports_df['latitud'] = airports_df['latitud'].astype(float)"
   ]
  },
  {
   "cell_type": "code",
   "execution_count": 34,
   "metadata": {},
   "outputs": [
    {
     "data": {
      "text/plain": [
       "<bound method DataFrame.info of     airport_code                         airport_name                 city  \\\n",
       "0            YKS                     \"Yakutsk Airport             \"Yakutsk   \n",
       "1            KHV             \"Khabarovsk-Novy Airport          \"Khabarovsk   \n",
       "2            PKC                    \"Yelizovo Airport       \"Petropavlovsk   \n",
       "3            UUS           \"Yuzhno-Sakhalinsk Airport   \"Yuzhno-Sakhalinsk   \n",
       "4            VVO   \"Vladivostok International Airport         \"Vladivostok   \n",
       "..           ...                                  ...                  ...   \n",
       "97           MMK                    \"Murmansk Airport            \"Murmansk   \n",
       "98           ABA                      \"Abakan Airport              \"Abakan   \n",
       "99           BAX                     \"Barnaul Airport             \"Barnaul   \n",
       "100          AAQ             \"Anapa Vityazevo Airport               \"Anapa   \n",
       "101          CNN                     \"Chulman Airport           \"Neryungri   \n",
       "\n",
       "             timezone    longitud    latitud  \n",
       "0        Asia/Yakutsk  129.770996  62.093300  \n",
       "1    Asia/Vladivostok  135.188004  48.528000  \n",
       "2      Asia/Kamchatka  158.453995  53.167900  \n",
       "3       Asia/Sakhalin  142.718002  46.888699  \n",
       "4    Asia/Vladivostok  132.147995  43.398998  \n",
       "..                ...         ...        ...  \n",
       "97      Europe/Moscow   32.750801  68.781700  \n",
       "98   Asia/Krasnoyarsk   91.385002  53.740002  \n",
       "99   Asia/Krasnoyarsk   83.538498  53.363800  \n",
       "100     Europe/Moscow   37.347301  45.002102  \n",
       "101      Asia/Yakutsk  124.914001  56.913898  \n",
       "\n",
       "[102 rows x 6 columns]>"
      ]
     },
     "execution_count": 34,
     "metadata": {},
     "output_type": "execute_result"
    }
   ],
   "source": [
    "airports_df.info"
   ]
  },
  {
   "cell_type": "code",
   "execution_count": 35,
   "metadata": {},
   "outputs": [
    {
     "name": "stdout",
     "output_type": "stream",
     "text": [
      "    airport_code                       airport_name                 city  \\\n",
      "0            YKS                    Yakutsk Airport             \"Yakutsk   \n",
      "1            KHV            Khabarovsk-Novy Airport          \"Khabarovsk   \n",
      "2            PKC                   Yelizovo Airport       \"Petropavlovsk   \n",
      "3            UUS          Yuzhno-Sakhalinsk Airport   \"Yuzhno-Sakhalinsk   \n",
      "4            VVO  Vladivostok International Airport         \"Vladivostok   \n",
      "..           ...                                ...                  ...   \n",
      "97           MMK                   Murmansk Airport            \"Murmansk   \n",
      "98           ABA                     Abakan Airport              \"Abakan   \n",
      "99           BAX                    Barnaul Airport             \"Barnaul   \n",
      "100          AAQ            Anapa Vityazevo Airport               \"Anapa   \n",
      "101          CNN                    Chulman Airport           \"Neryungri   \n",
      "\n",
      "             timezone    longitud    latitud  \n",
      "0        Asia/Yakutsk  129.770996  62.093300  \n",
      "1    Asia/Vladivostok  135.188004  48.528000  \n",
      "2      Asia/Kamchatka  158.453995  53.167900  \n",
      "3       Asia/Sakhalin  142.718002  46.888699  \n",
      "4    Asia/Vladivostok  132.147995  43.398998  \n",
      "..                ...         ...        ...  \n",
      "97      Europe/Moscow   32.750801  68.781700  \n",
      "98   Asia/Krasnoyarsk   91.385002  53.740002  \n",
      "99   Asia/Krasnoyarsk   83.538498  53.363800  \n",
      "100     Europe/Moscow   37.347301  45.002102  \n",
      "101      Asia/Yakutsk  124.914001  56.913898  \n",
      "\n",
      "[102 rows x 6 columns]\n"
     ]
    }
   ],
   "source": [
    "airports_df['airport_name'] = airports_df['airport_name'].str[2:]\n",
    "\n",
    "# Mostrar el DataFrame actualizado\n",
    "print(airports_df)"
   ]
  },
  {
   "cell_type": "code",
   "execution_count": 36,
   "metadata": {},
   "outputs": [
    {
     "name": "stdout",
     "output_type": "stream",
     "text": [
      "    airport_code                       airport_name               city  \\\n",
      "0            YKS                    Yakutsk Airport            Yakutsk   \n",
      "1            KHV            Khabarovsk-Novy Airport         Khabarovsk   \n",
      "2            PKC                   Yelizovo Airport      Petropavlovsk   \n",
      "3            UUS          Yuzhno-Sakhalinsk Airport  Yuzhno-Sakhalinsk   \n",
      "4            VVO  Vladivostok International Airport        Vladivostok   \n",
      "..           ...                                ...                ...   \n",
      "97           MMK                   Murmansk Airport           Murmansk   \n",
      "98           ABA                     Abakan Airport             Abakan   \n",
      "99           BAX                    Barnaul Airport            Barnaul   \n",
      "100          AAQ            Anapa Vityazevo Airport              Anapa   \n",
      "101          CNN                    Chulman Airport          Neryungri   \n",
      "\n",
      "             timezone    longitud    latitud  \n",
      "0        Asia/Yakutsk  129.770996  62.093300  \n",
      "1    Asia/Vladivostok  135.188004  48.528000  \n",
      "2      Asia/Kamchatka  158.453995  53.167900  \n",
      "3       Asia/Sakhalin  142.718002  46.888699  \n",
      "4    Asia/Vladivostok  132.147995  43.398998  \n",
      "..                ...         ...        ...  \n",
      "97      Europe/Moscow   32.750801  68.781700  \n",
      "98   Asia/Krasnoyarsk   91.385002  53.740002  \n",
      "99   Asia/Krasnoyarsk   83.538498  53.363800  \n",
      "100     Europe/Moscow   37.347301  45.002102  \n",
      "101      Asia/Yakutsk  124.914001  56.913898  \n",
      "\n",
      "[102 rows x 6 columns]\n"
     ]
    }
   ],
   "source": [
    "airports_df['city'] = airports_df['city'].str[2:]\n",
    "\n",
    "# Mostrar el DataFrame actualizado\n",
    "print(airports_df)"
   ]
  },
  {
   "cell_type": "code",
   "execution_count": 37,
   "metadata": {},
   "outputs": [],
   "source": [
    "airports_df.to_csv(\"airports_data_clean.csv\", index=False)\n"
   ]
  },
  {
   "cell_type": "code",
   "execution_count": null,
   "metadata": {},
   "outputs": [],
   "source": []
  }
 ],
 "metadata": {
  "kernelspec": {
   "display_name": "Python 3",
   "language": "python",
   "name": "python3"
  },
  "language_info": {
   "codemirror_mode": {
    "name": "ipython",
    "version": 3
   },
   "file_extension": ".py",
   "mimetype": "text/x-python",
   "name": "python",
   "nbconvert_exporter": "python",
   "pygments_lexer": "ipython3",
   "version": "3.12.6"
  }
 },
 "nbformat": 4,
 "nbformat_minor": 2
}
